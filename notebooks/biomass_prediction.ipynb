{
 "cells": [
  {
   "cell_type": "code",
   "execution_count": null,
   "metadata": {},
   "outputs": [
    {
     "name": "stdout",
     "output_type": "stream",
     "text": [
      "coordsbbox empty\n"
     ]
    }
   ],
   "source": [
    "c"
   ]
  },
  {
   "cell_type": "code",
   "execution_count": 6,
   "metadata": {},
   "outputs": [
    {
     "name": "stdout",
     "output_type": "stream",
     "text": [
      "Found URL with both '365_412' and 'shp': www.362_412.shp\n"
     ]
    }
   ],
   "source": [
    "urls = [\"www.362_412.shp\", \"www.365_412.shp\"]\n",
    "match_string = [[], \"shp\"]\n",
    "\n",
    "for url in urls:\n",
    "    if all(substring in url for substring in match_string if substring != []):\n",
    "        print(f\"Found URL with both '365_412' and 'shp': {url}\")\n",
    "        break\n",
    "else:\n",
    "    print(\"No URL found with both '365_412' and 'shp'\")"
   ]
  },
  {
   "cell_type": "code",
   "execution_count": 77,
   "metadata": {},
   "outputs": [],
   "source": [
    "import laspy\n",
    "from pathlib import Path\n",
    "import numpy as np\n",
    "from scipy import stats\n",
    "import pandas as pd\n",
    "import glob\n",
    "\n",
    "from sklearn.linear_model import LinearRegression\n",
    "from sklearn.model_selection import train_test_split\n",
    "from sklearn.metrics import mean_absolute_error, mean_squared_error"
   ]
  },
  {
   "attachments": {},
   "cell_type": "markdown",
   "metadata": {},
   "source": [
    "# Dataset"
   ]
  },
  {
   "cell_type": "code",
   "execution_count": 88,
   "metadata": {},
   "outputs": [],
   "source": [
    "pd.Series(d_z).describe()"
   ]
  },
  {
   "cell_type": "code",
   "execution_count": null,
   "metadata": {},
   "outputs": [],
   "source": [
    "sites = ['SJER', 'SOAP', 'TEAK']\n",
    "data_ls = []\n",
    "\n",
    "for site in sites:\n",
    "    data_globs = glob.glob('../data/processed/{}/20*/output'.format(site))\n",
    "\n",
    "    for data_glob in data_globs:\n",
    "        data_path = Path(data_glob)\n",
    "        laz_files = [i for i in data_path.glob('*.laz')]\n",
    "        indexes = []\n",
    "        point_data_z = []\n",
    "\n",
    "        for laz_file in laz_files:\n",
    "            plot_sub_id = laz_file.stem\n",
    "            indexes.append(plot_sub_id)\n",
    "            data = laspy.read(laz_file)\n",
    "            point_data = np.stack([data.X, data.Y, data.Z], axis=0).transpose((1, 0)) * data.header.z_scale + data.header.z_offset\n",
    "            # mask = pd.Series(data.classification.array).isin([2,3,4,5])\n",
    "            # point_data = point_data[mask]\n",
    "            d_z = point_data[:, 2]\n",
    "            d = pd.Series(d_z).describe()\n",
    "            d['skew'] = stats.skew(d_z)\n",
    "            d['kurtosis'] = stats.kurtosis(d_z)\n",
    "            point_data_z.append(d)\n",
    "            # add year and subplotID\n",
    "        \n",
    "        point_data_z_df = pd.DataFrame(point_data_z)\n",
    "        point_data_z_df['plot_sub_id'] = indexes\n",
    "        \n",
    "        bio_df = pd.read_csv('{}/plot_level_pp_veg_structure_IND_IBA_IAGB_live.csv'.format(data_glob))\n",
    "        bio_df['plot_sub_id'] = bio_df['plotID'].astype(str) + '_' + bio_df['subplotID'].astype(str)\n",
    "        data_df_temp = point_data_z_df.set_index('plot_sub_id').join(bio_df.set_index('plot_sub_id')).dropna()\n",
    "        data_ls.append(data_df_temp)\n",
    "\n",
    "data_df = pd.concat(data_ls) \n",
    "data_df  "
   ]
  },
  {
   "attachments": {},
   "cell_type": "markdown",
   "metadata": {},
   "source": [
    "# Train linear regression"
   ]
  },
  {
   "cell_type": "code",
   "execution_count": 136,
   "metadata": {},
   "outputs": [
    {
     "name": "stdout",
     "output_type": "stream",
     "text": [
      "Mean absolute error: 42.81\n",
      "Mean squared error: 2102.37\n",
      "Root mean squared error: 45.85\n",
      "R²: 0.05\n"
     ]
    }
   ],
   "source": [
    "X = data_df[['mean', 'std', 'skew', 'kurtosis']].values\n",
    "y = data_df.biomass\n",
    "\n",
    "from sklearn.linear_model import LinearRegression\n",
    "from sklearn.model_selection import train_test_split\n",
    "(X_train, X_test, y_train, y_test) = train_test_split(X, y, test_size=0.2)\n",
    "model = LinearRegression().fit(X_train, y_train)\n",
    "y_pred = model.predict(X_test)\n",
    "\n",
    "mae = mean_absolute_error(y_test, y_pred)\n",
    "mse = mean_squared_error(y_test, y_pred)\n",
    "rmse = np.sqrt(mse)\n",
    "\n",
    "train_score = model.score(X_train, y_train)\n",
    "\n",
    "print(f'Mean absolute error: {mae:.2f}')\n",
    "print(f'Mean squared error: {mse:.2f}')\n",
    "print(f'Root mean squared error: {rmse:.2f}')\n",
    "print(f'R²: {train_score:.2f}')"
   ]
  },
  {
   "cell_type": "code",
   "execution_count": 135,
   "metadata": {},
   "outputs": [
    {
     "data": {
      "text/html": [
       "<div>\n",
       "<style scoped>\n",
       "    .dataframe tbody tr th:only-of-type {\n",
       "        vertical-align: middle;\n",
       "    }\n",
       "\n",
       "    .dataframe tbody tr th {\n",
       "        vertical-align: top;\n",
       "    }\n",
       "\n",
       "    .dataframe thead th {\n",
       "        text-align: right;\n",
       "    }\n",
       "</style>\n",
       "<table border=\"1\" class=\"dataframe\">\n",
       "  <thead>\n",
       "    <tr style=\"text-align: right;\">\n",
       "      <th></th>\n",
       "      <th>Actual</th>\n",
       "      <th>Predicted</th>\n",
       "      <th>Diff</th>\n",
       "    </tr>\n",
       "    <tr>\n",
       "      <th>plot_sub_id</th>\n",
       "      <th></th>\n",
       "      <th></th>\n",
       "      <th></th>\n",
       "    </tr>\n",
       "  </thead>\n",
       "  <tbody>\n",
       "    <tr>\n",
       "      <th>TEAK_062_21</th>\n",
       "      <td>0.000000</td>\n",
       "      <td>20.925920</td>\n",
       "      <td>20.925920</td>\n",
       "    </tr>\n",
       "    <tr>\n",
       "      <th>SOAP_016_central</th>\n",
       "      <td>0.000417</td>\n",
       "      <td>51.067154</td>\n",
       "      <td>51.066737</td>\n",
       "    </tr>\n",
       "    <tr>\n",
       "      <th>TEAK_059_41</th>\n",
       "      <td>0.000000</td>\n",
       "      <td>38.237595</td>\n",
       "      <td>38.237595</td>\n",
       "    </tr>\n",
       "    <tr>\n",
       "      <th>SOAP_008_central</th>\n",
       "      <td>7.192184</td>\n",
       "      <td>75.940845</td>\n",
       "      <td>68.748661</td>\n",
       "    </tr>\n",
       "    <tr>\n",
       "      <th>SJER_008_central</th>\n",
       "      <td>0.025419</td>\n",
       "      <td>10.502814</td>\n",
       "      <td>10.477394</td>\n",
       "    </tr>\n",
       "    <tr>\n",
       "      <th>TEAK_045_39</th>\n",
       "      <td>5.897503</td>\n",
       "      <td>19.576834</td>\n",
       "      <td>13.679331</td>\n",
       "    </tr>\n",
       "    <tr>\n",
       "      <th>TEAK_054_41</th>\n",
       "      <td>0.000000</td>\n",
       "      <td>9.662002</td>\n",
       "      <td>9.662002</td>\n",
       "    </tr>\n",
       "    <tr>\n",
       "      <th>SOAP_018_central</th>\n",
       "      <td>7.227835</td>\n",
       "      <td>29.602295</td>\n",
       "      <td>22.374460</td>\n",
       "    </tr>\n",
       "    <tr>\n",
       "      <th>TEAK_053_21</th>\n",
       "      <td>0.000000</td>\n",
       "      <td>48.782161</td>\n",
       "      <td>48.782161</td>\n",
       "    </tr>\n",
       "    <tr>\n",
       "      <th>SJER_005_central</th>\n",
       "      <td>4.533802</td>\n",
       "      <td>38.336797</td>\n",
       "      <td>33.802995</td>\n",
       "    </tr>\n",
       "    <tr>\n",
       "      <th>TEAK_051_41</th>\n",
       "      <td>0.000000</td>\n",
       "      <td>35.366484</td>\n",
       "      <td>35.366484</td>\n",
       "    </tr>\n",
       "    <tr>\n",
       "      <th>TEAK_046_41</th>\n",
       "      <td>16.148370</td>\n",
       "      <td>40.361401</td>\n",
       "      <td>24.213031</td>\n",
       "    </tr>\n",
       "    <tr>\n",
       "      <th>TEAK_046_39</th>\n",
       "      <td>40.744621</td>\n",
       "      <td>30.475342</td>\n",
       "      <td>10.269279</td>\n",
       "    </tr>\n",
       "    <tr>\n",
       "      <th>SJER_047_central</th>\n",
       "      <td>0.294748</td>\n",
       "      <td>29.752924</td>\n",
       "      <td>29.458175</td>\n",
       "    </tr>\n",
       "    <tr>\n",
       "      <th>SOAP_004_central</th>\n",
       "      <td>28.228803</td>\n",
       "      <td>29.991416</td>\n",
       "      <td>1.762613</td>\n",
       "    </tr>\n",
       "    <tr>\n",
       "      <th>SOAP_010_central</th>\n",
       "      <td>3.507143</td>\n",
       "      <td>21.316551</td>\n",
       "      <td>17.809409</td>\n",
       "    </tr>\n",
       "  </tbody>\n",
       "</table>\n",
       "</div>"
      ],
      "text/plain": [
       "                     Actual  Predicted       Diff\n",
       "plot_sub_id                                      \n",
       "TEAK_062_21        0.000000  20.925920  20.925920\n",
       "SOAP_016_central   0.000417  51.067154  51.066737\n",
       "TEAK_059_41        0.000000  38.237595  38.237595\n",
       "SOAP_008_central   7.192184  75.940845  68.748661\n",
       "SJER_008_central   0.025419  10.502814  10.477394\n",
       "TEAK_045_39        5.897503  19.576834  13.679331\n",
       "TEAK_054_41        0.000000   9.662002   9.662002\n",
       "SOAP_018_central   7.227835  29.602295  22.374460\n",
       "TEAK_053_21        0.000000  48.782161  48.782161\n",
       "SJER_005_central   4.533802  38.336797  33.802995\n",
       "TEAK_051_41        0.000000  35.366484  35.366484\n",
       "TEAK_046_41       16.148370  40.361401  24.213031\n",
       "TEAK_046_39       40.744621  30.475342  10.269279\n",
       "SJER_047_central   0.294748  29.752924  29.458175\n",
       "SOAP_004_central  28.228803  29.991416   1.762613\n",
       "SOAP_010_central   3.507143  21.316551  17.809409"
      ]
     },
     "execution_count": 135,
     "metadata": {},
     "output_type": "execute_result"
    }
   ],
   "source": [
    "pd.DataFrame({'Actual': y_test, 'Predicted': y_pred, 'Diff': abs(y_test-y_pred)})"
   ]
  }
 ],
 "metadata": {
  "kernelspec": {
   "display_name": "Python 3",
   "language": "python",
   "name": "python3"
  },
  "language_info": {
   "codemirror_mode": {
    "name": "ipython",
    "version": 3
   },
   "file_extension": ".py",
   "mimetype": "text/x-python",
   "name": "python",
   "nbconvert_exporter": "python",
   "pygments_lexer": "ipython3",
   "version": "3.10.14"
  },
  "orig_nbformat": 4
 },
 "nbformat": 4,
 "nbformat_minor": 2
}
